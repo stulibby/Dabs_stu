{
 "cells": [
  {
   "cell_type": "markdown",
   "metadata": {},
   "source": [
    "# This notebook reads delta data and writes it as an UC table"
   ]
  },
  {
   "cell_type": "markdown",
   "metadata": {},
   "source": [
    "# Parameters\n",
    "\n",
    "* data_path (required)   - Path to the training data.\n",
    "* catalog (required)           - Three-level name (<catalog>.<schema>.<table>) to register the table in Unity Catalog. \n",
    "* schema (required)           - Three-level name (<catalog>.<schema>.<table>) to register the table in Unity Catalog. \n",
    "* table (required)           - Three-level name (<catalog>.<schema>.<table>) to register the table in Unity Catalog. "
   ]
  },
  {
   "cell_type": "markdown",
   "metadata": {},
   "source": [
    "## Creates the widgets / notebook parameters"
   ]
  },
  {
   "cell_type": "code",
   "execution_count": 5,
   "metadata": {},
   "outputs": [
    {
     "name": "stdout",
     "output_type": "stream",
     "text": []
    }
   ],
   "source": [
    "dbutils.widgets.text(\n",
    "    name = \"data_path\",\n",
    "    defaultValue = \"\",\n",
    "    label = \"Data file path\"\n",
    ")\n",
    "\n",
    "dbutils.widgets.text(\n",
    "    name = \"catalog\",\n",
    "    defaultValue = \"\",\n",
    "    label = \"Catalog Name\"\n",
    ")\n",
    "\n",
    "\n",
    "dbutils.widgets.text(\n",
    "    name = \"schema\",\n",
    "    defaultValue = \"\",\n",
    "    label = \"Schema Name\"\n",
    ")\n",
    "\n",
    "dbutils.widgets.text(\n",
    "    name = \"table\",\n",
    "    defaultValue = \"\",\n",
    "    label = \"Table Name\"\n",
    ")"
   ]
  },
  {
   "cell_type": "markdown",
   "metadata": {},
   "source": [
    "## Gets the widget / notebook parameters from DABs"
   ]
  },
  {
   "cell_type": "code",
   "execution_count": 6,
   "metadata": {},
   "outputs": [
    {
     "name": "stdout",
     "output_type": "stream",
     "text": []
    }
   ],
   "source": [
    "data_path = dbutils.widgets.get(\"data_path\")\n",
    "catalog = dbutils.widgets.get(\"catalog\")\n",
    "schema = dbutils.widgets.get(\"schema\")\n",
    "table = dbutils.widgets.get(\"table\")"
   ]
  },
  {
   "cell_type": "markdown",
   "metadata": {},
   "source": [
    "## Reads data from data path"
   ]
  },
  {
   "cell_type": "code",
   "execution_count": 7,
   "metadata": {},
   "outputs": [
    {
     "name": "stdout",
     "output_type": "stream",
     "text": []
    }
   ],
   "source": [
    "df = spark.read.format(\"delta\").load(data_path)"
   ]
  },
  {
   "cell_type": "markdown",
   "metadata": {},
   "source": [
    "## Writes data in UC"
   ]
  },
  {
   "cell_type": "code",
   "execution_count": 8,
   "metadata": {},
   "outputs": [
    {
     "name": "stdout",
     "output_type": "stream",
     "text": []
    }
   ],
   "source": [
    "df.write.format(\"delta\").mode(\"overwrite\").saveAsTable(f\"{catalog}.{schema}.{table}\")"
   ]
  }
 ],
 "metadata": {
  "language_info": {
   "name": "python"
  }
 },
 "nbformat": 4,
 "nbformat_minor": 2
}
